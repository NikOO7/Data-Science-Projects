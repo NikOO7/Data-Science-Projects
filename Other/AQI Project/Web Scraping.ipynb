{
 "cells": [
  {
   "cell_type": "code",
   "execution_count": 1,
   "metadata": {},
   "outputs": [],
   "source": [
    "import requests #Helps in downloading the page in html\n",
    "import sys\n",
    "import pandas as pd\n",
    "from bs4 import BeautifulSoup\n",
    "import os\n",
    "import csv"
   ]
  },
  {
   "cell_type": "code",
   "execution_count": 2,
   "metadata": {},
   "outputs": [
    {
     "name": "stdout",
     "output_type": "stream",
     "text": [
      "C:\\Users\\kalpa\\Data Science project\\AQI\n"
     ]
    }
   ],
   "source": [
    "cd C:\\Users\\kalpa\\Data Science project\\AQI"
   ]
  },
  {
   "cell_type": "code",
   "execution_count": 3,
   "metadata": {},
   "outputs": [],
   "source": [
    "def met_data(month, year):\n",
    "    \n",
    "    file_html = open('Data/Html_Data/{}/{}.html'.format(year,month), 'rb')\n",
    "    plain_text = file_html.read() #Read HTML file\n",
    "    \n",
    "    tempD = []\n",
    "    finalD = []\n",
    "\n",
    "    soup = BeautifulSoup(plain_text, \"lxml\")\n",
    "    for table in soup.findAll('table', {'class': 'medias mensuales numspan'}):\n",
    "        for tbody in table:\n",
    "            for tr in tbody:\n",
    "                a = tr.get_text()\n",
    "                tempD.append(a)\n",
    "\n",
    "    rows = len(tempD) / 15\n",
    "\n",
    "    for times in range(round(rows)):\n",
    "        newtempD = []\n",
    "        for i in range(15):\n",
    "            newtempD.append(tempD[0])\n",
    "            tempD.pop(0)\n",
    "        finalD.append(newtempD)\n",
    "\n",
    "    length = len(finalD)\n",
    "\n",
    "    finalD.pop(length - 1)\n",
    "    finalD.pop(0)\n",
    "\n",
    "    for a in range(len(finalD)):\n",
    "        finalD[a].pop(6)\n",
    "        finalD[a].pop(13)\n",
    "        finalD[a].pop(12)\n",
    "        finalD[a].pop(11)\n",
    "        finalD[a].pop(10)\n",
    "        finalD[a].pop(9)\n",
    "        finalD[a].pop(0)\n",
    "\n",
    "    return finalD"
   ]
  },
  {
   "cell_type": "code",
   "execution_count": 5,
   "metadata": {},
   "outputs": [],
   "source": [
    "if __name__ == \"__main__\":\n",
    "    if not os.path.exists(\"Data/Real-Data\"):\n",
    "        os.makedirs(\"Data/Real-Data\")\n",
    "    for year in range(2015, 2020):\n",
    "        final_data = []\n",
    "        with open('Data/Real-Data/real_' + str(year) + '.csv', 'w', newline ='') as csvfile:\n",
    "            wr = csv.writer(csvfile, dialect='excel')\n",
    "            \n",
    "        for month in range(1, 13):\n",
    "            temp = met_data(month, year)\n",
    "            final_data = final_data + temp\n",
    "\n",
    "        with open('Data/Real-Data/real_' + str(year) + '.csv', 'a', newline='') as csvfile:\n",
    "            wr = csv.writer(csvfile, dialect='excel')\n",
    "            for row in final_data:\n",
    "                wr.writerow(row)"
   ]
  },
  {
   "cell_type": "code",
   "execution_count": 6,
   "metadata": {},
   "outputs": [
    {
     "name": "stdout",
     "output_type": "stream",
     "text": [
      "C:\\Users\\kalpa\\Data Science project\\AQI\\Data\\Real-Data\n"
     ]
    }
   ],
   "source": [
    "cd C:\\Users\\kalpa\\Data Science project\\AQI\\Data\\Real-Data"
   ]
  },
  {
   "cell_type": "code",
   "execution_count": 7,
   "metadata": {},
   "outputs": [],
   "source": [
    "aqi2015 = pd.read_csv(\"aqi2015.csv\", header =None)\n",
    "real_2015 = pd.read_csv(\"real_2015.csv\", header =None)\n",
    "aqi2016 = pd.read_csv(\"aqi2016.csv\", header =None)\n",
    "real_2016 = pd.read_csv(\"real_2016.csv\", header =None)\n",
    "aqi2017 = pd.read_csv(\"aqi2017.csv\", header =None)\n",
    "real_2017 = pd.read_csv(\"real_2017.csv\", header =None)\n",
    "aqi2018 = pd.read_csv(\"aqi2018.csv\", header =None)\n",
    "real_2018 = pd.read_csv(\"real_2018.csv\", header =None)\n",
    "aqi2019 = pd.read_csv(\"aqi2019.csv\", header =None)\n",
    "real_2019 = pd.read_csv(\"real_2019.csv\", header =None)"
   ]
  },
  {
   "cell_type": "code",
   "execution_count": 8,
   "metadata": {},
   "outputs": [],
   "source": [
    "df2015 = pd.concat([real_2015, aqi2015], axis =1)\n",
    "df2016 = pd.concat([real_2016, aqi2016], axis =1)\n",
    "df2017 = pd.concat([real_2017, aqi2017], axis =1)\n",
    "df2018 = pd.concat([real_2018, aqi2018], axis =1)\n",
    "df2019 = pd.concat([real_2019, aqi2019], axis =1)"
   ]
  },
  {
   "cell_type": "code",
   "execution_count": 9,
   "metadata": {},
   "outputs": [
    {
     "data": {
      "text/plain": [
       "(365, 9)"
      ]
     },
     "execution_count": 9,
     "metadata": {},
     "output_type": "execute_result"
    }
   ],
   "source": [
    "df2015.shape"
   ]
  },
  {
   "cell_type": "code",
   "execution_count": 10,
   "metadata": {},
   "outputs": [],
   "source": [
    "df = pd.concat([df2015,df2016,df2017,df2018,df2019], axis =0)"
   ]
  },
  {
   "cell_type": "code",
   "execution_count": 11,
   "metadata": {},
   "outputs": [
    {
     "data": {
      "text/plain": [
       "(1826, 9)"
      ]
     },
     "execution_count": 11,
     "metadata": {},
     "output_type": "execute_result"
    }
   ],
   "source": [
    "df.shape"
   ]
  },
  {
   "cell_type": "code",
   "execution_count": 12,
   "metadata": {},
   "outputs": [],
   "source": [
    "datatoexcel = pd.ExcelWriter(\"Final_df.xlsx\", engine = \"xlsxwriter\")"
   ]
  },
  {
   "cell_type": "code",
   "execution_count": 13,
   "metadata": {},
   "outputs": [],
   "source": [
    "df.to_excel(datatoexcel, index =False, header =False)\n",
    "datatoexcel.save()"
   ]
  },
  {
   "cell_type": "code",
   "execution_count": null,
   "metadata": {},
   "outputs": [],
   "source": []
  }
 ],
 "metadata": {
  "kernelspec": {
   "display_name": "Python 3",
   "language": "python",
   "name": "python3"
  },
  "language_info": {
   "codemirror_mode": {
    "name": "ipython",
    "version": 3
   },
   "file_extension": ".py",
   "mimetype": "text/x-python",
   "name": "python",
   "nbconvert_exporter": "python",
   "pygments_lexer": "ipython3",
   "version": "3.8.3"
  }
 },
 "nbformat": 4,
 "nbformat_minor": 4
}
