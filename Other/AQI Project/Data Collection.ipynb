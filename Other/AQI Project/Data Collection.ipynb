{
 "cells": [
  {
   "cell_type": "code",
   "execution_count": 1,
   "metadata": {},
   "outputs": [
    {
     "name": "stdout",
     "output_type": "stream",
     "text": [
      "C:\\Users\\kalpa\\Data Science project\\AQI\n"
     ]
    }
   ],
   "source": [
    "cd C:\\Users\\kalpa\\Data Science project\\AQI"
   ]
  },
  {
   "cell_type": "code",
   "execution_count": 2,
   "metadata": {},
   "outputs": [
    {
     "data": {
      "text/plain": [
       "'C:\\\\Users\\\\kalpa\\\\Project Data Sciene\\\\AQI'"
      ]
     },
     "execution_count": 2,
     "metadata": {},
     "output_type": "execute_result"
    }
   ],
   "source": [
    "pwd"
   ]
  },
  {
   "cell_type": "code",
   "execution_count": 3,
   "metadata": {},
   "outputs": [],
   "source": [
    "import os\n",
    "import time #How much time it will take to download the html file\n",
    "import requests #Helps in downloading the page in html\n",
    "import sys"
   ]
  },
  {
   "cell_type": "code",
   "execution_count": 10,
   "metadata": {},
   "outputs": [],
   "source": [
    "def retrieve_html():\n",
    "    for year in range(2015,2020):\n",
    "        for month in range(1,13):\n",
    "            if(month<10):\n",
    "                url = \"http://en.tutiempo.net/climate/0{}-{}/ws-421820.html\".format(month,year)\n",
    "                \n",
    "            else:\n",
    "                url = \"http://en.tutiempo.net/climate/{}-{}/ws-421820.html\".format(month,year)\n",
    "            texts = requests.get(url) #retrieves the source code from html web page\n",
    "            text_utf = texts.text.encode('utf=8') #Some characters in html file needs fixing, so we use utf encoding to do that. It is the same as above.\n",
    "        \n",
    "            if not os.path.exists(\"Data/Html_Data/{}\".format(year)):\n",
    "                os.makedirs(\"Data/Html_Data/{}\".format(year))\n",
    "            with open(\"Data/Html_Data/{}/{}.html\".format(year,month),\"wb\") as output: #open the html file in wb mode which is contained in this folder\n",
    "                output.write(text_utf)\n",
    "        \n",
    "        sys.stdout.flush() #we want to flush the data at the end of the loop"
   ]
  },
  {
   "cell_type": "code",
   "execution_count": 11,
   "metadata": {},
   "outputs": [
    {
     "name": "stdout",
     "output_type": "stream",
     "text": [
      "Time taken: -75.99913358688354\n"
     ]
    }
   ],
   "source": [
    "if __name__==\"__main__\": #to ensure if the file is run directly by Python and not by import.\n",
    "    start_time = time.time()\n",
    "    retrieve_html()\n",
    "    stop_time = time.time()\n",
    "    print(\"Time taken: {}\".format(start_time-stop_time))"
   ]
  },
  {
   "cell_type": "code",
   "execution_count": null,
   "metadata": {},
   "outputs": [],
   "source": []
  }
 ],
 "metadata": {
  "kernelspec": {
   "display_name": "Python 3",
   "language": "python",
   "name": "python3"
  },
  "language_info": {
   "codemirror_mode": {
    "name": "ipython",
    "version": 3
   },
   "file_extension": ".py",
   "mimetype": "text/x-python",
   "name": "python",
   "nbconvert_exporter": "python",
   "pygments_lexer": "ipython3",
   "version": "3.8.3"
  }
 },
 "nbformat": 4,
 "nbformat_minor": 4
}
